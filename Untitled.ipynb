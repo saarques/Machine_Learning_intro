{
 "cells": [
  {
   "cell_type": "code",
   "execution_count": 38,
   "metadata": {
    "collapsed": false
   },
   "outputs": [],
   "source": [
    "# Import modules\n",
    "import pandas as pd\n",
    "import matplotlib.pyplot as plt\n",
    "# import seaborn as sns\n",
    "import re\n",
    "import numpy as np\n",
    "from sklearn import tree\n",
    "from sklearn.model_selection import train_test_split\n",
    "from sklearn.linear_model import LogisticRegression\n",
    "from sklearn.model_selection import GridSearchCV\n",
    "\n",
    "# Figures inline and set visualization style\n",
    "%matplotlib inline\n",
    "# sns.set()\n"
   ]
  },
  {
   "cell_type": "code",
   "execution_count": 39,
   "metadata": {
    "collapsed": true
   },
   "outputs": [],
   "source": [
    "# Import data\n",
    "df_train = pd.read_csv('/home/gajendra/Github/MachineLearning_intro/Titanic_data/train.csv')\n",
    "df_test = pd.read_csv('/home/gajendra/Github/MachineLearning_intro/Titanic_data/test.csv')"
   ]
  },
  {
   "cell_type": "code",
   "execution_count": 40,
   "metadata": {
    "collapsed": false
   },
   "outputs": [
    {
     "name": "stdout",
     "output_type": "stream",
     "text": [
      "<class 'pandas.core.frame.DataFrame'>\n",
      "RangeIndex: 891 entries, 0 to 890\n",
      "Data columns (total 12 columns):\n",
      "PassengerId    891 non-null int64\n",
      "Survived       891 non-null int64\n",
      "Pclass         891 non-null int64\n",
      "Name           891 non-null object\n",
      "Sex            891 non-null object\n",
      "Age            714 non-null float64\n",
      "SibSp          891 non-null int64\n",
      "Parch          891 non-null int64\n",
      "Ticket         891 non-null object\n",
      "Fare           891 non-null float64\n",
      "Cabin          204 non-null object\n",
      "Embarked       889 non-null object\n",
      "dtypes: float64(2), int64(5), object(5)\n",
      "memory usage: 83.6+ KB\n"
     ]
    }
   ],
   "source": [
    "df_train.info()"
   ]
  },
  {
   "cell_type": "code",
   "execution_count": 41,
   "metadata": {
    "collapsed": false
   },
   "outputs": [
    {
     "name": "stdout",
     "output_type": "stream",
     "text": [
      "<class 'pandas.core.frame.DataFrame'>\n",
      "RangeIndex: 418 entries, 0 to 417\n",
      "Data columns (total 11 columns):\n",
      "PassengerId    418 non-null int64\n",
      "Pclass         418 non-null int64\n",
      "Name           418 non-null object\n",
      "Sex            418 non-null object\n",
      "Age            332 non-null float64\n",
      "SibSp          418 non-null int64\n",
      "Parch          418 non-null int64\n",
      "Ticket         418 non-null object\n",
      "Fare           417 non-null float64\n",
      "Cabin          91 non-null object\n",
      "Embarked       418 non-null object\n",
      "dtypes: float64(2), int64(4), object(5)\n",
      "memory usage: 36.0+ KB\n"
     ]
    }
   ],
   "source": [
    "df_test.info()"
   ]
  },
  {
   "cell_type": "code",
   "execution_count": 42,
   "metadata": {
    "collapsed": false
   },
   "outputs": [
    {
     "name": "stdout",
     "output_type": "stream",
     "text": [
      "<class 'pandas.core.frame.DataFrame'>\n",
      "Int64Index: 1309 entries, 0 to 417\n",
      "Data columns (total 11 columns):\n",
      "PassengerId    1309 non-null int64\n",
      "Pclass         1309 non-null int64\n",
      "Name           1309 non-null object\n",
      "Sex            1309 non-null object\n",
      "Age            1046 non-null float64\n",
      "SibSp          1309 non-null int64\n",
      "Parch          1309 non-null int64\n",
      "Ticket         1309 non-null object\n",
      "Fare           1308 non-null float64\n",
      "Cabin          295 non-null object\n",
      "Embarked       1307 non-null object\n",
      "dtypes: float64(2), int64(4), object(5)\n",
      "memory usage: 122.7+ KB\n"
     ]
    }
   ],
   "source": [
    "# Store target variable of training data in a safe place\n",
    "survived_train = df_train.Survived\n",
    "\n",
    "# Concatenate training and test sets\n",
    "data = pd.concat([df_train.drop(['Survived'], axis=1), df_test])\n",
    "\n",
    "data.info()"
   ]
  },
  {
   "cell_type": "code",
   "execution_count": 43,
   "metadata": {
    "collapsed": false
   },
   "outputs": [
    {
     "name": "stdout",
     "output_type": "stream",
     "text": [
      "<class 'pandas.core.frame.DataFrame'>\n",
      "Int64Index: 1309 entries, 0 to 417\n",
      "Data columns (total 11 columns):\n",
      "PassengerId    1309 non-null int64\n",
      "Pclass         1309 non-null int64\n",
      "Name           1309 non-null object\n",
      "Sex            1309 non-null object\n",
      "Age            1309 non-null float64\n",
      "SibSp          1309 non-null int64\n",
      "Parch          1309 non-null int64\n",
      "Ticket         1309 non-null object\n",
      "Fare           1309 non-null float64\n",
      "Cabin          295 non-null object\n",
      "Embarked       1307 non-null object\n",
      "dtypes: float64(2), int64(4), object(5)\n",
      "memory usage: 122.7+ KB\n"
     ]
    }
   ],
   "source": [
    "# Impute missing numerical variables\n",
    "data['Age'] = data.Age.fillna(data.Age.median())\n",
    "data['Fare'] = data.Fare.fillna(data.Fare.median())\n",
    "\n",
    "# Check out info of data\n",
    "data.info()"
   ]
  },
  {
   "cell_type": "code",
   "execution_count": 44,
   "metadata": {
    "collapsed": false
   },
   "outputs": [
    {
     "name": "stdout",
     "output_type": "stream",
     "text": [
      "<class 'pandas.core.frame.DataFrame'>\n",
      "Int64Index: 1309 entries, 0 to 417\n",
      "Data columns (total 10 columns):\n",
      "PassengerId    1309 non-null int64\n",
      "Pclass         1309 non-null int64\n",
      "Name           1309 non-null object\n",
      "Sex            1309 non-null object\n",
      "Age            1309 non-null float64\n",
      "SibSp          1309 non-null int64\n",
      "Parch          1309 non-null int64\n",
      "Ticket         1309 non-null object\n",
      "Fare           1309 non-null float64\n",
      "Embarked       1307 non-null object\n",
      "dtypes: float64(2), int64(4), object(4)\n",
      "memory usage: 112.5+ KB\n"
     ]
    }
   ],
   "source": [
    "data=data.drop(\"Cabin\", axis=1)\n",
    "data.info()"
   ]
  },
  {
   "cell_type": "code",
   "execution_count": 45,
   "metadata": {
    "collapsed": false
   },
   "outputs": [
    {
     "name": "stdout",
     "output_type": "stream",
     "text": [
      "Name        Braund, Mr. Owen Harris\n",
      "Sex                            male\n",
      "Ticket                    A/5 21171\n",
      "Embarked                          S\n",
      "Name: 0, dtype: object\n"
     ]
    }
   ],
   "source": [
    "object_columns_df = data.select_dtypes(include=['object'])\n",
    "print(object_columns_df.iloc[0])\n"
   ]
  },
  {
   "cell_type": "code",
   "execution_count": 46,
   "metadata": {
    "collapsed": false
   },
   "outputs": [
    {
     "name": "stdout",
     "output_type": "stream",
     "text": [
      "<class 'pandas.core.frame.DataFrame'>\n",
      "Int64Index: 1309 entries, 0 to 417\n",
      "Data columns (total 4 columns):\n",
      "Name        1309 non-null object\n",
      "Sex         1309 non-null object\n",
      "Ticket      1309 non-null object\n",
      "Embarked    1307 non-null object\n",
      "dtypes: object(4)\n",
      "memory usage: 51.1+ KB\n"
     ]
    }
   ],
   "source": [
    "object_columns_df.info()"
   ]
  },
  {
   "cell_type": "code",
   "execution_count": 47,
   "metadata": {
    "collapsed": false
   },
   "outputs": [
    {
     "name": "stdout",
     "output_type": "stream",
     "text": [
      "Name :\n",
      "Kelly, Mr. James                                           2\n",
      "Connolly, Miss. Kate                                       2\n",
      "Johnson, Mr. Alfred                                        1\n",
      "Moutal, Mr. Rahamin Haim                                   1\n",
      "Hays, Miss. Margaret Bechstein                             1\n",
      "Kalvik, Mr. Johannes Halvorsen                             1\n",
      "Silverthorne, Mr. Spencer Victor                           1\n",
      "Hassab, Mr. Hammad                                         1\n",
      "Lennon, Mr. Denis                                          1\n",
      "Fischer, Mr. Eberhard Thelander                            1\n",
      "McCarthy, Miss. Catherine Katie\"\"                          1\n",
      "Baclini, Miss. Eugenie                                     1\n",
      "Smith, Mr. James Clinch                                    1\n",
      "Becker, Miss. Ruth Elizabeth                               1\n",
      "Rheims, Mr. George Alexander Lucien                        1\n",
      "Markun, Mr. Johann                                         1\n",
      "Coutts, Master. Eden Leslie \"Neville\"                      1\n",
      "Brocklebank, Mr. William Alfred                            1\n",
      "Davison, Mr. Thomas Henry                                  1\n",
      "Ekstrom, Mr. Johan                                         1\n",
      "Harper, Miss. Annie Jessie \"Nina\"                          1\n",
      "Gillespie, Mr. William Henry                               1\n",
      "Anderson, Mr. Harry                                        1\n",
      "Sweet, Mr. George Frederick                                1\n",
      "Farthing, Mr. John                                         1\n",
      "Pedersen, Mr. Olaf                                         1\n",
      "Givard, Mr. Hans Kristensen                                1\n",
      "Moraweck, Dr. Ernest                                       1\n",
      "Laroche, Miss. Simonne Marie Anne Andree                   1\n",
      "Connors, Mr. Patrick                                       1\n",
      "                                                          ..\n",
      "Widener, Mr. George Dunton                                 1\n",
      "LeRoy, Miss. Bertha                                        1\n",
      "West, Mr. Edwy Arthur                                      1\n",
      "Daniels, Miss. Sarah                                       1\n",
      "Lobb, Mr. William Arthur                                   1\n",
      "Williams, Mr. Richard Norris II                            1\n",
      "Simonius-Blumer, Col. Oberst Alfons                        1\n",
      "Peacock, Mrs. Benjamin (Edith Nile)                        1\n",
      "Vander Planke, Mrs. Julius (Emelia Maria Vandemoortele)    1\n",
      "Jarvis, Mr. John Denzil                                    1\n",
      "Duran y More, Miss. Florentina                             1\n",
      "Lindeberg-Lind, Mr. Erik Gustaf (Mr Edward Lingrey\")\"      1\n",
      "Pasic, Mr. Jakob                                           1\n",
      "Moran, Mr. James                                           1\n",
      "Duran y More, Miss. Asuncion                               1\n",
      "Khalil, Mr. Betros                                         1\n",
      "Schabert, Mrs. Paul (Emma Mock)                            1\n",
      "Davies, Mr. John Samuel                                    1\n",
      "Holm, Mr. John Fredrik Alexander                           1\n",
      "Riihivouri, Miss. Susanna Juhantytar Sanni\"\"               1\n",
      "Keane, Miss. Nora A                                        1\n",
      "Beckwith, Mr. Richard Leonard                              1\n",
      "Adams, Mr. John                                            1\n",
      "Shine, Miss. Ellen Natalia                                 1\n",
      "Lemore, Mrs. (Amelia Milley)                               1\n",
      "Maioni, Miss. Roberta                                      1\n",
      "Pengelly, Mr. Frederick William                            1\n",
      "Dorking, Mr. Edward Arthur                                 1\n",
      "Fahlstrom, Mr. Arne Jonas                                  1\n",
      "Brown, Mr. Thomas William Solomon                          1\n",
      "Name: Name, Length: 1307, dtype: int64 \n",
      "\n",
      "Sex :\n",
      "male      843\n",
      "female    466\n",
      "Name: Sex, dtype: int64 \n",
      "\n",
      "Ticket :\n",
      "CA. 2343              11\n",
      "CA 2144                8\n",
      "1601                   8\n",
      "3101295                7\n",
      "347082                 7\n",
      "PC 17608               7\n",
      "S.O.C. 14879           7\n",
      "347077                 7\n",
      "382652                 6\n",
      "113781                 6\n",
      "19950                  6\n",
      "347088                 6\n",
      "PC 17757               5\n",
      "W./C. 6608             5\n",
      "16966                  5\n",
      "113503                 5\n",
      "4133                   5\n",
      "349909                 5\n",
      "220845                 5\n",
      "24160                  4\n",
      "2666                   4\n",
      "PC 17760               4\n",
      "C.A. 34651             4\n",
      "C.A. 33112             4\n",
      "SC/Paris 2123          4\n",
      "PC 17483               4\n",
      "W./C. 6607             4\n",
      "LINE                   4\n",
      "230136                 4\n",
      "C.A. 2315              4\n",
      "                      ..\n",
      "112051                 1\n",
      "350035                 1\n",
      "A/5 21174              1\n",
      "PC 17612               1\n",
      "A/5. 13032             1\n",
      "350052                 1\n",
      "C.A. 17248             1\n",
      "349212                 1\n",
      "PC 17605               1\n",
      "239059                 1\n",
      "345364                 1\n",
      "SOTON/O.Q. 3101262     1\n",
      "SC/PARIS 2131          1\n",
      "347067                 1\n",
      "111428                 1\n",
      "STON/O 2. 3101292      1\n",
      "370370                 1\n",
      "349249                 1\n",
      "349221                 1\n",
      "347070                 1\n",
      "349231                 1\n",
      "2682                   1\n",
      "2687                   1\n",
      "S.W./PP 752            1\n",
      "334912                 1\n",
      "STON/O2. 3101290       1\n",
      "248698                 1\n",
      "STON/O 2. 3101273      1\n",
      "STON/O 2. 3101289      1\n",
      "364511                 1\n",
      "Name: Ticket, Length: 929, dtype: int64 \n",
      "\n",
      "Embarked :\n",
      "S    914\n",
      "C    270\n",
      "Q    123\n",
      "Name: Embarked, dtype: int64 \n",
      "\n"
     ]
    }
   ],
   "source": [
    "cols = ['Name', 'Sex','Ticket', 'Embarked']\n",
    "for name in cols:\n",
    "    print(name,':')\n",
    "    print(object_columns_df[name].value_counts(),'\\n')\n"
   ]
  },
  {
   "cell_type": "code",
   "execution_count": 48,
   "metadata": {
    "collapsed": false
   },
   "outputs": [],
   "source": [
    "drop_cols=['Name', 'Ticket']\n",
    "data=data.drop(drop_cols, axis=1)"
   ]
  },
  {
   "cell_type": "code",
   "execution_count": 49,
   "metadata": {
    "collapsed": false
   },
   "outputs": [
    {
     "name": "stdout",
     "output_type": "stream",
     "text": [
      "<class 'pandas.core.frame.DataFrame'>\n",
      "Int64Index: 1309 entries, 0 to 417\n",
      "Data columns (total 8 columns):\n",
      "PassengerId    1309 non-null int64\n",
      "Pclass         1309 non-null int64\n",
      "Sex            1309 non-null object\n",
      "Age            1309 non-null float64\n",
      "SibSp          1309 non-null int64\n",
      "Parch          1309 non-null int64\n",
      "Fare           1309 non-null float64\n",
      "Embarked       1307 non-null object\n",
      "dtypes: float64(2), int64(4), object(2)\n",
      "memory usage: 92.0+ KB\n"
     ]
    }
   ],
   "source": [
    "data.info()"
   ]
  },
  {
   "cell_type": "code",
   "execution_count": 50,
   "metadata": {
    "collapsed": true
   },
   "outputs": [],
   "source": [
    "nominal_columns = [\"Embarked\", \"Sex\"]\n",
    "dummy_df = pd.get_dummies(data[nominal_columns])\n",
    "data = pd.concat([data, dummy_df], axis=1)\n",
    "data = data.drop(nominal_columns, axis=1)"
   ]
  },
  {
   "cell_type": "code",
   "execution_count": 51,
   "metadata": {
    "collapsed": false
   },
   "outputs": [
    {
     "data": {
      "text/html": [
       "<div>\n",
       "<style scoped>\n",
       "    .dataframe tbody tr th:only-of-type {\n",
       "        vertical-align: middle;\n",
       "    }\n",
       "\n",
       "    .dataframe tbody tr th {\n",
       "        vertical-align: top;\n",
       "    }\n",
       "\n",
       "    .dataframe thead th {\n",
       "        text-align: right;\n",
       "    }\n",
       "</style>\n",
       "<table border=\"1\" class=\"dataframe\">\n",
       "  <thead>\n",
       "    <tr style=\"text-align: right;\">\n",
       "      <th></th>\n",
       "      <th>PassengerId</th>\n",
       "      <th>Pclass</th>\n",
       "      <th>Age</th>\n",
       "      <th>SibSp</th>\n",
       "      <th>Parch</th>\n",
       "      <th>Fare</th>\n",
       "      <th>Embarked_C</th>\n",
       "      <th>Embarked_Q</th>\n",
       "      <th>Embarked_S</th>\n",
       "      <th>Sex_female</th>\n",
       "      <th>Sex_male</th>\n",
       "    </tr>\n",
       "  </thead>\n",
       "  <tbody>\n",
       "    <tr>\n",
       "      <th>0</th>\n",
       "      <td>1</td>\n",
       "      <td>3</td>\n",
       "      <td>22.0</td>\n",
       "      <td>1</td>\n",
       "      <td>0</td>\n",
       "      <td>7.2500</td>\n",
       "      <td>0</td>\n",
       "      <td>0</td>\n",
       "      <td>1</td>\n",
       "      <td>0</td>\n",
       "      <td>1</td>\n",
       "    </tr>\n",
       "    <tr>\n",
       "      <th>1</th>\n",
       "      <td>2</td>\n",
       "      <td>1</td>\n",
       "      <td>38.0</td>\n",
       "      <td>1</td>\n",
       "      <td>0</td>\n",
       "      <td>71.2833</td>\n",
       "      <td>1</td>\n",
       "      <td>0</td>\n",
       "      <td>0</td>\n",
       "      <td>1</td>\n",
       "      <td>0</td>\n",
       "    </tr>\n",
       "    <tr>\n",
       "      <th>2</th>\n",
       "      <td>3</td>\n",
       "      <td>3</td>\n",
       "      <td>26.0</td>\n",
       "      <td>0</td>\n",
       "      <td>0</td>\n",
       "      <td>7.9250</td>\n",
       "      <td>0</td>\n",
       "      <td>0</td>\n",
       "      <td>1</td>\n",
       "      <td>1</td>\n",
       "      <td>0</td>\n",
       "    </tr>\n",
       "    <tr>\n",
       "      <th>3</th>\n",
       "      <td>4</td>\n",
       "      <td>1</td>\n",
       "      <td>35.0</td>\n",
       "      <td>1</td>\n",
       "      <td>0</td>\n",
       "      <td>53.1000</td>\n",
       "      <td>0</td>\n",
       "      <td>0</td>\n",
       "      <td>1</td>\n",
       "      <td>1</td>\n",
       "      <td>0</td>\n",
       "    </tr>\n",
       "    <tr>\n",
       "      <th>4</th>\n",
       "      <td>5</td>\n",
       "      <td>3</td>\n",
       "      <td>35.0</td>\n",
       "      <td>0</td>\n",
       "      <td>0</td>\n",
       "      <td>8.0500</td>\n",
       "      <td>0</td>\n",
       "      <td>0</td>\n",
       "      <td>1</td>\n",
       "      <td>0</td>\n",
       "      <td>1</td>\n",
       "    </tr>\n",
       "  </tbody>\n",
       "</table>\n",
       "</div>"
      ],
      "text/plain": [
       "   PassengerId  Pclass   Age  SibSp  Parch     Fare  Embarked_C  Embarked_Q  \\\n",
       "0            1       3  22.0      1      0   7.2500           0           0   \n",
       "1            2       1  38.0      1      0  71.2833           1           0   \n",
       "2            3       3  26.0      0      0   7.9250           0           0   \n",
       "3            4       1  35.0      1      0  53.1000           0           0   \n",
       "4            5       3  35.0      0      0   8.0500           0           0   \n",
       "\n",
       "   Embarked_S  Sex_female  Sex_male  \n",
       "0           1           0         1  \n",
       "1           0           1         0  \n",
       "2           1           1         0  \n",
       "3           1           1         0  \n",
       "4           1           0         1  "
      ]
     },
     "execution_count": 51,
     "metadata": {},
     "output_type": "execute_result"
    }
   ],
   "source": [
    "data.head()"
   ]
  },
  {
   "cell_type": "code",
   "execution_count": 52,
   "metadata": {
    "collapsed": false
   },
   "outputs": [
    {
     "name": "stdout",
     "output_type": "stream",
     "text": [
      "<class 'pandas.core.frame.DataFrame'>\n",
      "Int64Index: 1309 entries, 0 to 417\n",
      "Data columns (total 11 columns):\n",
      "PassengerId    1309 non-null int64\n",
      "Pclass         1309 non-null int64\n",
      "Age            1309 non-null float64\n",
      "SibSp          1309 non-null int64\n",
      "Parch          1309 non-null int64\n",
      "Fare           1309 non-null float64\n",
      "Embarked_C     1309 non-null uint8\n",
      "Embarked_Q     1309 non-null uint8\n",
      "Embarked_S     1309 non-null uint8\n",
      "Sex_female     1309 non-null uint8\n",
      "Sex_male       1309 non-null uint8\n",
      "dtypes: float64(2), int64(4), uint8(5)\n",
      "memory usage: 78.0 KB\n"
     ]
    }
   ],
   "source": [
    "data.info()"
   ]
  },
  {
   "cell_type": "code",
   "execution_count": 53,
   "metadata": {
    "collapsed": false
   },
   "outputs": [],
   "source": [
    "data=data.drop(['Sex_female'], axis=1)"
   ]
  },
  {
   "cell_type": "code",
   "execution_count": 54,
   "metadata": {
    "collapsed": false
   },
   "outputs": [
    {
     "name": "stdout",
     "output_type": "stream",
     "text": [
      "<class 'pandas.core.frame.DataFrame'>\n",
      "Int64Index: 1309 entries, 0 to 417\n",
      "Data columns (total 10 columns):\n",
      "PassengerId    1309 non-null int64\n",
      "Pclass         1309 non-null int64\n",
      "Age            1309 non-null float64\n",
      "SibSp          1309 non-null int64\n",
      "Parch          1309 non-null int64\n",
      "Fare           1309 non-null float64\n",
      "Embarked_C     1309 non-null uint8\n",
      "Embarked_Q     1309 non-null uint8\n",
      "Embarked_S     1309 non-null uint8\n",
      "Sex_male       1309 non-null uint8\n",
      "dtypes: float64(2), int64(4), uint8(4)\n",
      "memory usage: 76.7 KB\n"
     ]
    }
   ],
   "source": [
    "data.info()"
   ]
  },
  {
   "cell_type": "code",
   "execution_count": 55,
   "metadata": {
    "collapsed": false
   },
   "outputs": [
    {
     "name": "stdout",
     "output_type": "stream",
     "text": [
      "PassengerId :\n",
      "1309    1\n",
      "449     1\n",
      "431     1\n",
      "432     1\n",
      "433     1\n",
      "434     1\n",
      "435     1\n",
      "436     1\n",
      "437     1\n",
      "438     1\n",
      "439     1\n",
      "440     1\n",
      "441     1\n",
      "442     1\n",
      "443     1\n",
      "444     1\n",
      "445     1\n",
      "446     1\n",
      "447     1\n",
      "430     1\n",
      "429     1\n",
      "428     1\n",
      "418     1\n",
      "411     1\n",
      "412     1\n",
      "413     1\n",
      "414     1\n",
      "415     1\n",
      "416     1\n",
      "417     1\n",
      "       ..\n",
      "890     1\n",
      "880     1\n",
      "891     1\n",
      "892     1\n",
      "893     1\n",
      "894     1\n",
      "895     1\n",
      "896     1\n",
      "897     1\n",
      "881     1\n",
      "879     1\n",
      "861     1\n",
      "869     1\n",
      "862     1\n",
      "863     1\n",
      "864     1\n",
      "865     1\n",
      "866     1\n",
      "867     1\n",
      "868     1\n",
      "870     1\n",
      "878     1\n",
      "871     1\n",
      "872     1\n",
      "873     1\n",
      "874     1\n",
      "875     1\n",
      "876     1\n",
      "877     1\n",
      "1       1\n",
      "Name: PassengerId, Length: 1309, dtype: int64 \n",
      "\n",
      "Pclass :\n",
      "3    709\n",
      "1    323\n",
      "2    277\n",
      "Name: Pclass, dtype: int64 \n",
      "\n",
      "Age :\n",
      "28.00    295\n",
      "24.00     47\n",
      "22.00     43\n",
      "21.00     41\n",
      "30.00     40\n",
      "18.00     39\n",
      "25.00     34\n",
      "36.00     31\n",
      "26.00     30\n",
      "29.00     30\n",
      "27.00     30\n",
      "19.00     29\n",
      "23.00     26\n",
      "32.00     24\n",
      "20.00     23\n",
      "35.00     23\n",
      "31.00     23\n",
      "33.00     21\n",
      "45.00     21\n",
      "17.00     20\n",
      "39.00     20\n",
      "16.00     19\n",
      "42.00     18\n",
      "40.00     18\n",
      "34.00     16\n",
      "50.00     15\n",
      "38.00     14\n",
      "47.00     14\n",
      "48.00     14\n",
      "2.00      12\n",
      "        ... \n",
      "12.00      3\n",
      "65.00      3\n",
      "0.83       3\n",
      "34.50      2\n",
      "71.00      2\n",
      "0.92       2\n",
      "30.50      2\n",
      "70.00      2\n",
      "45.50      2\n",
      "36.50      2\n",
      "14.50      2\n",
      "23.50      1\n",
      "38.50      1\n",
      "67.00      1\n",
      "60.50      1\n",
      "55.50      1\n",
      "0.17       1\n",
      "0.33       1\n",
      "20.50      1\n",
      "24.50      1\n",
      "66.00      1\n",
      "0.42       1\n",
      "70.50      1\n",
      "11.50      1\n",
      "26.50      1\n",
      "76.00      1\n",
      "22.50      1\n",
      "74.00      1\n",
      "80.00      1\n",
      "0.67       1\n",
      "Name: Age, Length: 98, dtype: int64 \n",
      "\n",
      "SibSp :\n",
      "0    891\n",
      "1    319\n",
      "2     42\n",
      "4     22\n",
      "3     20\n",
      "8      9\n",
      "5      6\n",
      "Name: SibSp, dtype: int64 \n",
      "\n",
      "Parch :\n",
      "0    1002\n",
      "1     170\n",
      "2     113\n",
      "3       8\n",
      "5       6\n",
      "4       6\n",
      "9       2\n",
      "6       2\n",
      "Name: Parch, dtype: int64 \n",
      "\n",
      "Fare :\n",
      "8.0500     60\n",
      "13.0000    59\n",
      "7.7500     55\n",
      "26.0000    50\n",
      "7.8958     49\n",
      "10.5000    35\n",
      "7.7750     26\n",
      "7.2292     24\n",
      "7.9250     23\n",
      "26.5500    22\n",
      "8.6625     21\n",
      "7.8542     21\n",
      "7.2250     21\n",
      "7.2500     18\n",
      "0.0000     17\n",
      "21.0000    14\n",
      "9.5000     12\n",
      "16.1000    12\n",
      "14.5000    11\n",
      "14.4542    11\n",
      "69.5500    11\n",
      "27.7208    11\n",
      "7.7958     10\n",
      "7.8792     10\n",
      "15.5000    10\n",
      "24.1500     9\n",
      "15.2458     9\n",
      "7.0500      9\n",
      "56.4958     8\n",
      "46.9000     8\n",
      "           ..\n",
      "45.5000     1\n",
      "8.4333      1\n",
      "8.1583      1\n",
      "8.0292      1\n",
      "12.7375     1\n",
      "31.6833     1\n",
      "42.5000     1\n",
      "34.0208     1\n",
      "25.9250     1\n",
      "12.6500     1\n",
      "7.0458      1\n",
      "49.5000     1\n",
      "7.7208      1\n",
      "32.3208     1\n",
      "6.4500      1\n",
      "8.3000      1\n",
      "7.5208      1\n",
      "28.7125     1\n",
      "25.5875     1\n",
      "7.7292      1\n",
      "9.8458      1\n",
      "8.6542      1\n",
      "25.7000     1\n",
      "10.1708     1\n",
      "7.3125      1\n",
      "33.5000     1\n",
      "7.8000      1\n",
      "26.3875     1\n",
      "15.5792     1\n",
      "7.1417      1\n",
      "Name: Fare, Length: 281, dtype: int64 \n",
      "\n",
      "Embarked_C :\n",
      "0    1039\n",
      "1     270\n",
      "Name: Embarked_C, dtype: int64 \n",
      "\n",
      "Embarked_Q :\n",
      "0    1186\n",
      "1     123\n",
      "Name: Embarked_Q, dtype: int64 \n",
      "\n",
      "Embarked_S :\n",
      "1    914\n",
      "0    395\n",
      "Name: Embarked_S, dtype: int64 \n",
      "\n",
      "Sex_male :\n",
      "1    843\n",
      "0    466\n",
      "Name: Sex_male, dtype: int64 \n",
      "\n"
     ]
    }
   ],
   "source": [
    "for name in data:\n",
    "    print(name,':')\n",
    "    print(data[name].value_counts(),'\\n')"
   ]
  },
  {
   "cell_type": "code",
   "execution_count": 56,
   "metadata": {
    "collapsed": false
   },
   "outputs": [],
   "source": [
    "data=data.drop(['PassengerId'], axis=1)"
   ]
  },
  {
   "cell_type": "code",
   "execution_count": 57,
   "metadata": {
    "collapsed": false
   },
   "outputs": [
    {
     "data": {
      "text/html": [
       "<div>\n",
       "<style scoped>\n",
       "    .dataframe tbody tr th:only-of-type {\n",
       "        vertical-align: middle;\n",
       "    }\n",
       "\n",
       "    .dataframe tbody tr th {\n",
       "        vertical-align: top;\n",
       "    }\n",
       "\n",
       "    .dataframe thead th {\n",
       "        text-align: right;\n",
       "    }\n",
       "</style>\n",
       "<table border=\"1\" class=\"dataframe\">\n",
       "  <thead>\n",
       "    <tr style=\"text-align: right;\">\n",
       "      <th></th>\n",
       "      <th>Pclass</th>\n",
       "      <th>Age</th>\n",
       "      <th>SibSp</th>\n",
       "      <th>Parch</th>\n",
       "      <th>Fare</th>\n",
       "      <th>Embarked_C</th>\n",
       "      <th>Embarked_Q</th>\n",
       "      <th>Embarked_S</th>\n",
       "      <th>Sex_male</th>\n",
       "    </tr>\n",
       "  </thead>\n",
       "  <tbody>\n",
       "    <tr>\n",
       "      <th>0</th>\n",
       "      <td>3</td>\n",
       "      <td>22.0</td>\n",
       "      <td>1</td>\n",
       "      <td>0</td>\n",
       "      <td>7.2500</td>\n",
       "      <td>0</td>\n",
       "      <td>0</td>\n",
       "      <td>1</td>\n",
       "      <td>1</td>\n",
       "    </tr>\n",
       "    <tr>\n",
       "      <th>1</th>\n",
       "      <td>1</td>\n",
       "      <td>38.0</td>\n",
       "      <td>1</td>\n",
       "      <td>0</td>\n",
       "      <td>71.2833</td>\n",
       "      <td>1</td>\n",
       "      <td>0</td>\n",
       "      <td>0</td>\n",
       "      <td>0</td>\n",
       "    </tr>\n",
       "    <tr>\n",
       "      <th>2</th>\n",
       "      <td>3</td>\n",
       "      <td>26.0</td>\n",
       "      <td>0</td>\n",
       "      <td>0</td>\n",
       "      <td>7.9250</td>\n",
       "      <td>0</td>\n",
       "      <td>0</td>\n",
       "      <td>1</td>\n",
       "      <td>0</td>\n",
       "    </tr>\n",
       "    <tr>\n",
       "      <th>3</th>\n",
       "      <td>1</td>\n",
       "      <td>35.0</td>\n",
       "      <td>1</td>\n",
       "      <td>0</td>\n",
       "      <td>53.1000</td>\n",
       "      <td>0</td>\n",
       "      <td>0</td>\n",
       "      <td>1</td>\n",
       "      <td>0</td>\n",
       "    </tr>\n",
       "    <tr>\n",
       "      <th>4</th>\n",
       "      <td>3</td>\n",
       "      <td>35.0</td>\n",
       "      <td>0</td>\n",
       "      <td>0</td>\n",
       "      <td>8.0500</td>\n",
       "      <td>0</td>\n",
       "      <td>0</td>\n",
       "      <td>1</td>\n",
       "      <td>1</td>\n",
       "    </tr>\n",
       "  </tbody>\n",
       "</table>\n",
       "</div>"
      ],
      "text/plain": [
       "   Pclass   Age  SibSp  Parch     Fare  Embarked_C  Embarked_Q  Embarked_S  \\\n",
       "0       3  22.0      1      0   7.2500           0           0           1   \n",
       "1       1  38.0      1      0  71.2833           1           0           0   \n",
       "2       3  26.0      0      0   7.9250           0           0           1   \n",
       "3       1  35.0      1      0  53.1000           0           0           1   \n",
       "4       3  35.0      0      0   8.0500           0           0           1   \n",
       "\n",
       "   Sex_male  \n",
       "0         1  \n",
       "1         0  \n",
       "2         0  \n",
       "3         0  \n",
       "4         1  "
      ]
     },
     "execution_count": 57,
     "metadata": {},
     "output_type": "execute_result"
    }
   ],
   "source": [
    "data.head()"
   ]
  },
  {
   "cell_type": "code",
   "execution_count": 58,
   "metadata": {
    "collapsed": true
   },
   "outputs": [],
   "source": [
    "data_train = data.iloc[:891]\n",
    "data_test = data.iloc[891:]"
   ]
  },
  {
   "cell_type": "code",
   "execution_count": 59,
   "metadata": {
    "collapsed": true
   },
   "outputs": [],
   "source": [
    "X = data_train.values\n",
    "test = data_test.values\n",
    "y = survived_train.values\n"
   ]
  },
  {
   "cell_type": "code",
   "execution_count": 60,
   "metadata": {
    "collapsed": false,
    "scrolled": true
   },
   "outputs": [
    {
     "data": {
      "text/plain": [
       "DecisionTreeClassifier(class_weight=None, criterion='gini', max_depth=3,\n",
       "            max_features=None, max_leaf_nodes=None,\n",
       "            min_impurity_decrease=0.0, min_impurity_split=None,\n",
       "            min_samples_leaf=1, min_samples_split=2,\n",
       "            min_weight_fraction_leaf=0.0, presort=False, random_state=None,\n",
       "            splitter='best')"
      ]
     },
     "execution_count": 60,
     "metadata": {},
     "output_type": "execute_result"
    }
   ],
   "source": [
    "# Instantiate model and fit to data\n",
    "clf = tree.DecisionTreeClassifier(max_depth=3)\n",
    "clf.fit(X, y)"
   ]
  },
  {
   "cell_type": "code",
   "execution_count": 61,
   "metadata": {
    "collapsed": true
   },
   "outputs": [],
   "source": [
    "# Make predictions and store in 'Survived' column of df_test\n",
    "Y_pred = clf.predict(test)\n",
    "df_test['Survived'] = Y_pred"
   ]
  },
  {
   "cell_type": "code",
   "execution_count": 62,
   "metadata": {
    "collapsed": true
   },
   "outputs": [],
   "source": [
    "df_test[['PassengerId', 'Survived']].to_csv('/home/gajendra/Github/MachineLearning_intro/Titanic_data/predictions/2nd_solution.csv', index=False)"
   ]
  }
 ],
 "metadata": {
  "kernelspec": {
   "display_name": "Python 3",
   "language": "python",
   "name": "python3"
  },
  "language_info": {
   "codemirror_mode": {
    "name": "ipython",
    "version": 3
   },
   "file_extension": ".py",
   "mimetype": "text/x-python",
   "name": "python",
   "nbconvert_exporter": "python",
   "pygments_lexer": "ipython3",
   "version": "3.6.6"
  }
 },
 "nbformat": 4,
 "nbformat_minor": 0
}
